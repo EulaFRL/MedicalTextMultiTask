{
 "cells": [
  {
   "cell_type": "code",
   "execution_count": 1,
   "id": "6876a634",
   "metadata": {},
   "outputs": [
    {
     "name": "stderr",
     "output_type": "stream",
     "text": [
      "c:\\Users\\Administrator\\miniconda3\\envs\\qanda\\Lib\\site-packages\\tqdm\\auto.py:21: TqdmWarning: IProgress not found. Please update jupyter and ipywidgets. See https://ipywidgets.readthedocs.io/en/stable/user_install.html\n",
      "  from .autonotebook import tqdm as notebook_tqdm\n"
     ]
    }
   ],
   "source": [
    "from transformers import AutoModelForCausalLM, AutoTokenizer\n",
    "import torch"
   ]
  },
  {
   "cell_type": "markdown",
   "id": "70dd4852",
   "metadata": {},
   "source": [
    "下载 MMed-Llama-3-8B 到 ./model"
   ]
  },
  {
   "cell_type": "code",
   "execution_count": 5,
   "id": "4eccd52b",
   "metadata": {},
   "outputs": [
    {
     "name": "stderr",
     "output_type": "stream",
     "text": [
      "Downloading shards:  71%|███████▏  | 5/7 [07:58<03:11, 95.65s/it]Error while downloading from https://cdn-lfs-us-1.hf.co/repos/da/8b/da8ba479a419dacd02da52be82e870f3a01c8eef22abba15b93d6e7277bbfb2f/ef95a60b2ef9a627b0fef054ef8557057af31b3e563fc5a90957f7c86409deca?response-content-disposition=inline%3B+filename*%3DUTF-8%27%27model-00006-of-00007.safetensors%3B+filename%3D%22model-00006-of-00007.safetensors%22%3B&Expires=1749470344&Policy=eyJTdGF0ZW1lbnQiOlt7IkNvbmRpdGlvbiI6eyJEYXRlTGVzc1RoYW4iOnsiQVdTOkVwb2NoVGltZSI6MTc0OTQ3MDM0NH19LCJSZXNvdXJjZSI6Imh0dHBzOi8vY2RuLWxmcy11cy0xLmhmLmNvL3JlcG9zL2RhLzhiL2RhOGJhNDc5YTQxOWRhY2QwMmRhNTJiZTgyZTg3MGYzYTAxYzhlZWYyMmFiYmExNWI5M2Q2ZTcyNzdiYmZiMmYvZWY5NWE2MGIyZWY5YTYyN2IwZmVmMDU0ZWY4NTU3MDU3YWYzMWIzZTU2M2ZjNWE5MDk1N2Y3Yzg2NDA5ZGVjYT9yZXNwb25zZS1jb250ZW50LWRpc3Bvc2l0aW9uPSoifV19&Signature=iYQ0%7EVSrCsQIbJFCr0Y0x7jPPu-4CAqXuCWjtMqkGbrK-FZ9J3VmU1MTNpgIcFX69uvQUAzJH4AupyfNxXa4putqiLwWl412iZRRQ74901ZTffappYNSF3TyaxarK0eXlIu7ibt5ljujvtjLxhpR-WX562oh48JhX16OdhLTNvqlXr3MHTGc1I-XFfmS3on%7EyM9JgXvrO036oI7QWJSsvGZjFTex7uyMh9c05o5kVN5P-xkuk5uBXA4kUbkAsPI3r4OFMAxwZkN16dtVNQWc3lW3EeTgvvSFl9zlA5dDJwVAXO5R1xWVqZetRvNjAdW37LLId9hhRteXYPO%7ElpRJRQ__&Key-Pair-Id=K24J24Z295AEI9: HTTPSConnectionPool(host='cdn-lfs-us-1.hf.co', port=443): Read timed out.\n",
      "Trying to resume download...\n",
      "Downloading shards: 100%|██████████| 7/7 [27:26<00:00, 235.24s/it]\n",
      "Loading checkpoint shards: 100%|██████████| 7/7 [00:04<00:00,  1.67it/s]\n"
     ]
    }
   ],
   "source": [
    "tokenizer = AutoTokenizer.from_pretrained(\n",
    "    \"Henrychur/MMed-Llama-3-8B\",\n",
    "    cache_dir=\"model\"\n",
    ")\n",
    "model = AutoModelForCausalLM.from_pretrained(\n",
    "    \"Henrychur/MMed-Llama-3-8B\",\n",
    "    torch_dtype=torch.float16,\n",
    "    cache_dir=\"model\"\n",
    ")"
   ]
  },
  {
   "cell_type": "code",
   "execution_count": 12,
   "id": "d8afe76e",
   "metadata": {},
   "outputs": [],
   "source": [
    "import pandas as pd\n",
    "meddia = pd.read_json(r'data\\\\meddia_ch_single.jsonl', lines=True)"
   ]
  },
  {
   "cell_type": "code",
   "execution_count": 14,
   "id": "d068bc30",
   "metadata": {},
   "outputs": [
    {
     "name": "stdout",
     "output_type": "stream",
     "text": [
      "2058\n"
     ]
    }
   ],
   "source": [
    "utterances = [turns[0]['utterance'] for turns in meddia['turns']]\n",
    "max_length = max(len(u) for u in utterances)\n",
    "print(max_length)"
   ]
  }
 ],
 "metadata": {
  "kernelspec": {
   "display_name": "qanda",
   "language": "python",
   "name": "python3"
  },
  "language_info": {
   "codemirror_mode": {
    "name": "ipython",
    "version": 3
   },
   "file_extension": ".py",
   "mimetype": "text/x-python",
   "name": "python",
   "nbconvert_exporter": "python",
   "pygments_lexer": "ipython3",
   "version": "3.11.11"
  }
 },
 "nbformat": 4,
 "nbformat_minor": 5
}
