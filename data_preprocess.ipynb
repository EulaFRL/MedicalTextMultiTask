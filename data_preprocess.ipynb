{
 "cells": [
  {
   "cell_type": "markdown",
   "id": "01e453e1",
   "metadata": {},
   "source": [
    "HealthCareMagic 数据集的第一轮简单清洗：去除一些问候语，并筛除过短的问/答"
   ]
  },
  {
   "cell_type": "code",
   "execution_count": 1,
   "id": "9bf64e50",
   "metadata": {},
   "outputs": [],
   "source": [
    "import re\n",
    "def remove_polite_clauses(text): #remove some polite words/irrelavant and the clauses that contain them\n",
    "    polite_words = r'\\b(hi|hello|thanks|thankyou|thank you|welcome|sir|dear)\\b'\n",
    "    punctuations = r'[!\"#$%&\\'()*+,\\-./:;<=>?@[\\\\\\]^_`{|}~，。！？、；：“”‘’（）《》〈〉【】『』—……·～]'\n",
    "\n",
    "    pattern = re.compile(rf'({polite_words})(.*?)({punctuations})', flags=re.IGNORECASE)\n",
    "    \n",
    "    cleaned = re.sub(pattern, ' ', text)\n",
    "    return re.sub(r'\\s+', ' ', cleaned).strip()\n"
   ]
  },
  {
   "cell_type": "code",
   "execution_count": 2,
   "id": "9f763a88",
   "metadata": {},
   "outputs": [],
   "source": [
    "import pandas as pd\n",
    "HCM_raw = pd.read_parquet('data\\\\train-00000-of-00001-5e7cb295b9cff0bf.parquet')"
   ]
  },
  {
   "cell_type": "code",
   "execution_count": null,
   "id": "b0d10740",
   "metadata": {},
   "outputs": [],
   "source": [
    "HCM_raw.head(10)"
   ]
  },
  {
   "cell_type": "code",
   "execution_count": null,
   "id": "eeb17594",
   "metadata": {},
   "outputs": [],
   "source": [
    "HCM_raw = HCM_raw[[\"input\",\"output\"]]\n",
    "HCM_raw.head(10)"
   ]
  },
  {
   "cell_type": "code",
   "execution_count": null,
   "id": "fd915b38",
   "metadata": {},
   "outputs": [],
   "source": [
    "HCM = HCM_raw.map(lambda x: remove_polite_clauses(x))\n",
    "HCM.head(10)"
   ]
  },
  {
   "cell_type": "code",
   "execution_count": 6,
   "id": "3dfdff55",
   "metadata": {},
   "outputs": [
    {
     "name": "stdout",
     "output_type": "stream",
     "text": [
      "(112165, 2)\n",
      "(104426, 2)\n"
     ]
    }
   ],
   "source": [
    "HCM_filtered = HCM[(HCM[\"input\"].str.len()>150) & (HCM[\"output\"].str.len()>150)]\n",
    "print(HCM.shape)\n",
    "print(HCM_filtered.shape)"
   ]
  },
  {
   "cell_type": "markdown",
   "id": "56e33fae",
   "metadata": {},
   "source": [
    "HealthCareMagic 数据集的第二轮针对问答质量的筛选：检查在问题和回答中是否分别有至少一个医学相关名词"
   ]
  },
  {
   "cell_type": "code",
   "execution_count": 7,
   "id": "4ec2363d",
   "metadata": {},
   "outputs": [
    {
     "data": {
      "text/plain": [
       "98119"
      ]
     },
     "execution_count": 7,
     "metadata": {},
     "output_type": "execute_result"
    }
   ],
   "source": [
    "#词汇表来自 https://github.com/glutanimate/wordlist-medicalterms-en\n",
    "with open('medical_vocab\\wordlist.txt', 'r') as f:\n",
    "    terms = f.readlines()\n",
    "terms = [t.strip() for t in terms]\n",
    "len(terms)"
   ]
  },
  {
   "cell_type": "code",
   "execution_count": 8,
   "id": "bbc68120",
   "metadata": {},
   "outputs": [],
   "source": [
    "terms_set = set(terms)\n",
    "def has_medical_term(text):\n",
    "    tokens = text.split()\n",
    "    tokens = [token.strip(r'[!\"#$%&\\'()*+,\\-./:;<=>?@[\\\\\\]^_`{|}~，。！？、；：“”‘’（）《》〈〉【】『』—……·～]')\n",
    "              for token in tokens]\n",
    "    return any(token in terms_set for token in tokens)\n",
    "# head = HCM_filtered.head(10000)\n",
    "# test = head[head['output'].apply(has_medical_term)]\n",
    "# test = head[head['input'].apply(has_medical_term)]\n",
    "# len(test)"
   ]
  },
  {
   "cell_type": "code",
   "execution_count": 9,
   "id": "8dbb4f64",
   "metadata": {},
   "outputs": [
    {
     "data": {
      "text/plain": [
       "(104146, 2)"
      ]
     },
     "execution_count": 9,
     "metadata": {},
     "output_type": "execute_result"
    }
   ],
   "source": [
    "HCM_cleaned = HCM_filtered[(HCM_filtered['output'].apply(has_medical_term)) & (HCM_filtered['input'].apply(has_medical_term))]\n",
    "HCM_cleaned.shape"
   ]
  },
  {
   "cell_type": "markdown",
   "id": "0cbaabd5",
   "metadata": {},
   "source": [
    "接下来把处理好的 HCM 数据最终调整成训练所需并且能够用 data loader 读取的格式，然后存储。"
   ]
  },
  {
   "cell_type": "code",
   "execution_count": 15,
   "id": "7e19654e",
   "metadata": {},
   "outputs": [
    {
     "data": {
      "text/plain": [
       "Index(['input', 'output'], dtype='object')"
      ]
     },
     "execution_count": 15,
     "metadata": {},
     "output_type": "execute_result"
    }
   ],
   "source": [
    "HCM_cleaned.columns"
   ]
  },
  {
   "cell_type": "code",
   "execution_count": 20,
   "id": "90b03f5e",
   "metadata": {},
   "outputs": [
    {
     "name": "stderr",
     "output_type": "stream",
     "text": [
      "C:\\Users\\Administrator\\AppData\\Local\\Temp\\ipykernel_16504\\2807312461.py:1: SettingWithCopyWarning: \n",
      "A value is trying to be set on a copy of a slice from a DataFrame\n",
      "\n",
      "See the caveats in the documentation: https://pandas.pydata.org/pandas-docs/stable/user_guide/indexing.html#returning-a-view-versus-a-copy\n",
      "  HCM_cleaned.rename(columns={\"input\":\"question\",\"output\":\"answer\"}, inplace=True)\n"
     ]
    },
    {
     "data": {
      "text/html": [
       "<div>\n",
       "<style scoped>\n",
       "    .dataframe tbody tr th:only-of-type {\n",
       "        vertical-align: middle;\n",
       "    }\n",
       "\n",
       "    .dataframe tbody tr th {\n",
       "        vertical-align: top;\n",
       "    }\n",
       "\n",
       "    .dataframe thead th {\n",
       "        text-align: right;\n",
       "    }\n",
       "</style>\n",
       "<table border=\"1\" class=\"dataframe\">\n",
       "  <thead>\n",
       "    <tr style=\"text-align: right;\">\n",
       "      <th></th>\n",
       "      <th>question</th>\n",
       "      <th>answer</th>\n",
       "    </tr>\n",
       "  </thead>\n",
       "  <tbody>\n",
       "    <tr>\n",
       "      <th>0</th>\n",
       "      <td>I woke up this morning feeling the whole room ...</td>\n",
       "      <td>The most likely cause for your symptoms is ben...</td>\n",
       "    </tr>\n",
       "    <tr>\n",
       "      <th>1</th>\n",
       "      <td>My baby has been pooing 5-6 times a day for a ...</td>\n",
       "      <td>.. It seems your kid is having viral diarrhea....</td>\n",
       "    </tr>\n",
       "    <tr>\n",
       "      <th>2</th>\n",
       "      <td>My husband is taking Oxycodone due to a broken...</td>\n",
       "      <td>and I hope I can help you today.First, there i...</td>\n",
       "    </tr>\n",
       "  </tbody>\n",
       "</table>\n",
       "</div>"
      ],
      "text/plain": [
       "                                            question  \\\n",
       "0  I woke up this morning feeling the whole room ...   \n",
       "1  My baby has been pooing 5-6 times a day for a ...   \n",
       "2  My husband is taking Oxycodone due to a broken...   \n",
       "\n",
       "                                              answer  \n",
       "0  The most likely cause for your symptoms is ben...  \n",
       "1  .. It seems your kid is having viral diarrhea....  \n",
       "2  and I hope I can help you today.First, there i...  "
      ]
     },
     "execution_count": 20,
     "metadata": {},
     "output_type": "execute_result"
    }
   ],
   "source": [
    "HCM_cleaned.rename(columns={\"input\":\"question\",\"output\":\"answer\"}, inplace=True)\n",
    "HCM_cleaned.head(3)"
   ]
  },
  {
   "cell_type": "code",
   "execution_count": 21,
   "id": "a3786761",
   "metadata": {},
   "outputs": [],
   "source": [
    "HCM_cleaned.to_json('data/hcm_en.jsonl', orient='records', lines=True, force_ascii=False) #存储为 jsonl 格式，每行一个字典（orient=‘records’）"
   ]
  },
  {
   "cell_type": "markdown",
   "id": "a5f7e135",
   "metadata": {},
   "source": [
    "处理 meddialog-zh 中文数据"
   ]
  },
  {
   "cell_type": "code",
   "execution_count": null,
   "id": "eb7053f9",
   "metadata": {},
   "outputs": [],
   "source": [
    "#中文版\n",
    "def contains_medical_terms_zh(text, medical_terms):\n",
    "    tokens = jieba.lcut(text)\n",
    "    return any(token in medical_terms for token in tokens)"
   ]
  },
  {
   "cell_type": "markdown",
   "id": "eacd2add",
   "metadata": {},
   "source": [
    "下面是在检查英文数据里的医学名词阶段，已经废除的方法：用 CHV vocab，包含一些医学名词的口语化表达和包含多个词的短语，然后再使用 spacy phrase matcher 检查回答内是否包含医学名词。\n",
    "由于 CHV vocab 最终包含过多日常化和口语化的名词，而 spacy phrase matcher 又不够精确所以废除。"
   ]
  },
  {
   "cell_type": "code",
   "execution_count": null,
   "id": "d2a0be5c",
   "metadata": {},
   "outputs": [],
   "source": [
    "# import pandas as pd\n",
    "# chv_vocab = pd.read_csv('CHV_vocab\\CHV_concepts_terms_flatfile_20110204.tsv',sep='\\t')\n",
    "# chv_vocab.shape"
   ]
  },
  {
   "cell_type": "code",
   "execution_count": null,
   "id": "f6e7f402",
   "metadata": {},
   "outputs": [],
   "source": [
    "# chv_vocab = chv_vocab[chv_vocab.columns[2]]\n",
    "# chv_vocab.tail(10)"
   ]
  },
  {
   "cell_type": "code",
   "execution_count": null,
   "id": "b9ae169e",
   "metadata": {},
   "outputs": [],
   "source": [
    "# chv_vocab_set = chv_vocab.to_list()\n",
    "# chv_vocab_set = {v for v in chv_vocab_set if isinstance(v, str) and ',' not in v and '/' not in v}\n",
    "# len(chv_vocab_set)"
   ]
  },
  {
   "cell_type": "code",
   "execution_count": null,
   "id": "1dfafd8b",
   "metadata": {},
   "outputs": [],
   "source": [
    "# import spacy\n",
    "# from spacy.matcher import PhraseMatcher\n",
    "\n",
    "# nlp = spacy.blank(\"en\")\n",
    "# matcher = PhraseMatcher(nlp.vocab, attr=\"LOWER\")\n",
    "# # chv_vocab_set = {v for v in chv_vocab_set if v not in nlp.Defaults.stop_words}\n",
    "# # terms = list(chv_vocab_set)\n",
    "# patterns = [nlp.make_doc(text) for text in terms]\n",
    "# matcher.add(\"MED_TERM\", patterns)\n"
   ]
  },
  {
   "cell_type": "code",
   "execution_count": null,
   "id": "fc92902e",
   "metadata": {},
   "outputs": [],
   "source": [
    "# def has_medical_term(text):\n",
    "#     doc = nlp(text)\n",
    "#     matches = matcher(doc)\n",
    "#     #利用 spacy 的实体标签来过滤 chv 词汇库里的部分非医学专有名词\n",
    "#     valid_matches = []\n",
    "    \n",
    "#     for match_id, start, end in matches:\n",
    "#         span = doc[start:end]\n",
    "        \n",
    "#         if not any(ent.label_ in [\"PERSON\",\"NORP\",\"FAC\",\"ORG\",\"GPE\",\"LOC\",\"PRODUCT\",\"WORK_OF_ART\",\"LAW\",\"LANGUAGE\",\"DATE\",\"TIME\",\"PERCENT\",\"MONEY\",\"QUANTITY\",\"ORDINAL\",\"CARDINAL\"]\n",
    "#                    for ent in doc.ents[start:end]):\n",
    "#             valid_matches.append((match_id, start, end))\n",
    "    \n",
    "#     return len(valid_matches) > 0\n",
    "#     # return len(matches) >0"
   ]
  }
 ],
 "metadata": {
  "kernelspec": {
   "display_name": "qanda",
   "language": "python",
   "name": "python3"
  },
  "language_info": {
   "codemirror_mode": {
    "name": "ipython",
    "version": 3
   },
   "file_extension": ".py",
   "mimetype": "text/x-python",
   "name": "python",
   "nbconvert_exporter": "python",
   "pygments_lexer": "ipython3",
   "version": "3.11.11"
  }
 },
 "nbformat": 4,
 "nbformat_minor": 5
}
