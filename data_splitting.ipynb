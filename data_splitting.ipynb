{
 "cells": [
  {
   "cell_type": "markdown",
   "id": "bb3128f4",
   "metadata": {},
   "source": [
    "根据训练计划对数据分拨"
   ]
  },
  {
   "cell_type": "code",
   "execution_count": 26,
   "id": "dc069aac",
   "metadata": {},
   "outputs": [
    {
     "data": {
      "text/plain": [
       "(46378, 3)"
      ]
     },
     "execution_count": 26,
     "metadata": {},
     "output_type": "execute_result"
    }
   ],
   "source": [
    "# 首先处理 meddialog—cn\n",
    "import pandas as pd \n",
    "\n",
    "meddia_ch = pd.read_json('data\\meddia_ch_single.jsonl',lines=True)\n",
    "meddia_ch.shape"
   ]
  },
  {
   "cell_type": "code",
   "execution_count": 27,
   "id": "03918d05",
   "metadata": {},
   "outputs": [
    {
     "data": {
      "text/plain": [
       "(44378, 3)"
      ]
     },
     "execution_count": 27,
     "metadata": {},
     "output_type": "execute_result"
    }
   ],
   "source": [
    "# 在含医学名词量最高的 2k 条中抽取一半作为测试集\n",
    "top_2k = meddia_ch.iloc[:2000].copy()\n",
    "meddia_ch = meddia_ch.iloc[2000:]\n",
    "meddia_ch.shape"
   ]
  },
  {
   "cell_type": "code",
   "execution_count": 28,
   "id": "b57e590d",
   "metadata": {},
   "outputs": [
    {
     "name": "stdout",
     "output_type": "stream",
     "text": [
      "((44378, 3), (2000, 3), (1000, 3), (1000, 3))\n"
     ]
    }
   ],
   "source": [
    "test_chn = top_2k.sample(1000, random_state=7)\n",
    "non_sampled = top_2k.loc[top_2k.index.difference(test_chn.index)]\n",
    "print((meddia_ch.shape, top_2k.shape, test_chn.shape, non_sampled.shape))"
   ]
  },
  {
   "cell_type": "code",
   "execution_count": 29,
   "id": "02fa79a5",
   "metadata": {},
   "outputs": [],
   "source": [
    "test_chn.to_json('data\\\\test\\\\test_chn.jsonl', orient='records', lines=True)"
   ]
  },
  {
   "cell_type": "code",
   "execution_count": 30,
   "id": "16636d72",
   "metadata": {},
   "outputs": [
    {
     "data": {
      "text/plain": [
       "(45378, 3)"
      ]
     },
     "execution_count": 30,
     "metadata": {},
     "output_type": "execute_result"
    }
   ],
   "source": [
    "meddia_ch = pd.concat([non_sampled,meddia_ch], axis=0)\n",
    "meddia_ch.shape"
   ]
  },
  {
   "cell_type": "code",
   "execution_count": 31,
   "id": "c3f7d8f5",
   "metadata": {},
   "outputs": [
    {
     "data": {
      "text/plain": [
       "(2000, 3)"
      ]
     },
     "execution_count": 31,
     "metadata": {},
     "output_type": "execute_result"
    }
   ],
   "source": [
    "#随机抽取 2k 条作为验证集\n",
    "val_chn = meddia_ch.sample(2000, random_state=8)\n",
    "val_chn.shape"
   ]
  },
  {
   "cell_type": "code",
   "execution_count": null,
   "id": "e2e2edb4",
   "metadata": {},
   "outputs": [
    {
     "data": {
      "text/plain": [
       "(43378, 3)"
      ]
     },
     "execution_count": 33,
     "metadata": {},
     "output_type": "execute_result"
    }
   ],
   "source": [
    "#剩下的作为微调训练集\n",
    "meddia_ch = meddia_ch.loc[meddia_ch.index.difference(val_chn.index)]\n",
    "meddia_ch.shape"
   ]
  },
  {
   "cell_type": "code",
   "execution_count": 34,
   "id": "9349af77",
   "metadata": {},
   "outputs": [],
   "source": [
    "val_chn.to_json('data\\\\val\\\\val_chn.jsonl', orient='records', lines=True)"
   ]
  },
  {
   "cell_type": "code",
   "execution_count": 35,
   "id": "a8c24246",
   "metadata": {},
   "outputs": [],
   "source": [
    "meddia_ch.to_json('data\\\\train\\\\train_chn.jsonl', orient='records', lines=True)"
   ]
  },
  {
   "cell_type": "code",
   "execution_count": 36,
   "id": "155c2164",
   "metadata": {},
   "outputs": [],
   "source": [
    "#接着处理 hcm\n",
    "hcm = pd.read_json('data\\hcm_en.jsonl',lines=True)\n",
    "val_en = hcm.sample(5000 , random_state=7)"
   ]
  },
  {
   "cell_type": "code",
   "execution_count": 39,
   "id": "c5ac0028",
   "metadata": {},
   "outputs": [
    {
     "data": {
      "text/plain": [
       "(99146, 2)"
      ]
     },
     "execution_count": 39,
     "metadata": {},
     "output_type": "execute_result"
    }
   ],
   "source": [
    "hcm = hcm.loc[hcm.index.difference(val_en.index)]\n",
    "hcm.shape"
   ]
  },
  {
   "cell_type": "code",
   "execution_count": 40,
   "id": "1c38856f",
   "metadata": {},
   "outputs": [],
   "source": [
    "val_en.to_json('data\\\\val\\\\val_en.jsonl', orient='records', lines=True)\n",
    "hcm.to_json('data\\\\train\\\\train_en.jsonl', orient='records', lines=True)"
   ]
  },
  {
   "cell_type": "code",
   "execution_count": 58,
   "id": "82a22c9b",
   "metadata": {},
   "outputs": [],
   "source": [
    "#最后处理 icliniq\n",
    "icliniq_doc = pd.read_json('data\\icl_en_real.jsonl',lines=True)\n",
    "icliniq_mod = pd.read_json('data\\icl_en_modl.jsonl',lines=True)"
   ]
  },
  {
   "cell_type": "code",
   "execution_count": 59,
   "id": "ea3fe0af",
   "metadata": {},
   "outputs": [
    {
     "name": "stdout",
     "output_type": "stream",
     "text": [
      "((5919, 2), (1000, 2))\n",
      "((5919, 2), (1000, 2))\n"
     ]
    }
   ],
   "source": [
    "#选出做测试集的 1k 问题\n",
    "test_en_real = icliniq_doc.sample(1000, random_state=8)\n",
    "icliniq_doc = icliniq_doc.loc[icliniq_doc.index.difference(test_en_real.index)]\n",
    "print((icliniq_doc.shape, test_en_real.shape))\n",
    "\n",
    "test_en_modl = icliniq_mod.loc[test_en_real.index]\n",
    "icliniq_mod = icliniq_mod.loc[icliniq_doc.index]\n",
    "print((icliniq_mod.shape, test_en_modl.shape))"
   ]
  },
  {
   "cell_type": "code",
   "execution_count": 60,
   "id": "f3fcdfc9",
   "metadata": {},
   "outputs": [],
   "source": [
    "test_en_real.to_json('data\\\\test\\\\test_en_real.jsonl', orient='records', lines=True)\n",
    "test_en_modl.to_json('data\\\\test\\\\test_en_modl.jsonl', orient='records', lines=True)"
   ]
  },
  {
   "cell_type": "code",
   "execution_count": 61,
   "id": "66014f2e",
   "metadata": {},
   "outputs": [
    {
     "name": "stdout",
     "output_type": "stream",
     "text": [
      "((4143, 2), (1776, 2))\n"
     ]
    }
   ],
   "source": [
    "#风格多样化训练集： 70% 医生，30% 模型\n",
    "train_en_diverse = icliniq_doc.sample(frac=0.7, random_state=7)\n",
    "icliniq_mod = icliniq_mod.loc[icliniq_mod.index.difference(train_en_diverse.index)]\n",
    "print((train_en_diverse.shape, icliniq_mod.shape))"
   ]
  },
  {
   "cell_type": "code",
   "execution_count": 62,
   "id": "d7731623",
   "metadata": {},
   "outputs": [],
   "source": [
    "#添加模型或医生回答的 identifier\n",
    "train_en_diverse['type'] = \"real\"\n",
    "icliniq_mod['type'] = \"model\""
   ]
  },
  {
   "cell_type": "code",
   "execution_count": 63,
   "id": "ef1edd13",
   "metadata": {},
   "outputs": [
    {
     "data": {
      "text/plain": [
       "(5919, 3)"
      ]
     },
     "execution_count": 63,
     "metadata": {},
     "output_type": "execute_result"
    }
   ],
   "source": [
    "train_en_diverse = pd.concat([train_en_diverse, icliniq_mod], axis=0)\n",
    "train_en_diverse = train_en_diverse.sample(frac=1) #shuffle\n",
    "train_en_diverse.shape"
   ]
  },
  {
   "cell_type": "code",
   "execution_count": 64,
   "id": "00d38423",
   "metadata": {},
   "outputs": [],
   "source": [
    "train_en_diverse.to_json('data\\\\train\\\\train_en_diverse.jsonl', orient='records', lines=True)"
   ]
  }
 ],
 "metadata": {
  "kernelspec": {
   "display_name": "qanda",
   "language": "python",
   "name": "python3"
  },
  "language_info": {
   "codemirror_mode": {
    "name": "ipython",
    "version": 3
   },
   "file_extension": ".py",
   "mimetype": "text/x-python",
   "name": "python",
   "nbconvert_exporter": "python",
   "pygments_lexer": "ipython3",
   "version": "3.11.11"
  }
 },
 "nbformat": 4,
 "nbformat_minor": 5
}
